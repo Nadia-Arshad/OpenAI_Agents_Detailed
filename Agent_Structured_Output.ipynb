{
  "nbformat": 4,
  "nbformat_minor": 0,
  "metadata": {
    "colab": {
      "provenance": []
    },
    "kernelspec": {
      "name": "python3",
      "display_name": "Python 3"
    },
    "language_info": {
      "name": "python"
    }
  },
  "cells": [
    {
      "cell_type": "code",
      "execution_count": 2,
      "metadata": {
        "colab": {
          "base_uri": "https://localhost:8080/"
        },
        "id": "97EOmtCjGdKV",
        "outputId": "335ef461-dc59-4720-f15f-b5939984e672"
      },
      "outputs": [
        {
          "output_type": "stream",
          "name": "stdout",
          "text": [
            "\u001b[2K     \u001b[90m━━━━━━━━━━━━━━━━━━━━━━━━━━━━━━━━━━━━━━━━\u001b[0m \u001b[32m44.7/44.7 kB\u001b[0m \u001b[31m2.1 MB/s\u001b[0m eta \u001b[36m0:00:00\u001b[0m\n",
            "\u001b[2K   \u001b[90m━━━━━━━━━━━━━━━━━━━━━━━━━━━━━━━━━━━━━━━━\u001b[0m \u001b[32m130.6/130.6 kB\u001b[0m \u001b[31m5.5 MB/s\u001b[0m eta \u001b[36m0:00:00\u001b[0m\n",
            "\u001b[2K   \u001b[90m━━━━━━━━━━━━━━━━━━━━━━━━━━━━━━━━━━━━━━━━\u001b[0m \u001b[32m129.3/129.3 kB\u001b[0m \u001b[31m8.6 MB/s\u001b[0m eta \u001b[36m0:00:00\u001b[0m\n",
            "\u001b[2K   \u001b[90m━━━━━━━━━━━━━━━━━━━━━━━━━━━━━━━━━━━━━━━━\u001b[0m \u001b[32m155.9/155.9 kB\u001b[0m \u001b[31m5.3 MB/s\u001b[0m eta \u001b[36m0:00:00\u001b[0m\n",
            "\u001b[2K   \u001b[90m━━━━━━━━━━━━━━━━━━━━━━━━━━━━━━━━━━━━━━━━\u001b[0m \u001b[32m45.2/45.2 kB\u001b[0m \u001b[31m2.8 MB/s\u001b[0m eta \u001b[36m0:00:00\u001b[0m\n",
            "\u001b[?25h"
          ]
        }
      ],
      "source": [
        "!pip install -Uq openai-agents"
      ]
    },
    {
      "cell_type": "code",
      "source": [
        "import nest_asyncio\n",
        "nest_asyncio.apply()"
      ],
      "metadata": {
        "id": "h9DRxjB1GfzI"
      },
      "execution_count": 3,
      "outputs": []
    },
    {
      "cell_type": "code",
      "source": [
        "from google.colab import userdata\n",
        "\n",
        "gemini_api_key = userdata.get(\"GEMINI_API_KEY\")\n",
        "if gemini_api_key:\n",
        "  print(\"Yes\")\n",
        "else:\n",
        "  print(\"No\")"
      ],
      "metadata": {
        "colab": {
          "base_uri": "https://localhost:8080/"
        },
        "id": "NjDCMb0CGpYR",
        "outputId": "50154597-c60f-457b-a637-096145db0163"
      },
      "execution_count": 4,
      "outputs": [
        {
          "output_type": "stream",
          "name": "stdout",
          "text": [
            "Yes\n"
          ]
        }
      ]
    },
    {
      "cell_type": "code",
      "source": [
        "from agents import Agent, Runner, OpenAIChatCompletionsModel\n",
        "from openai import AsyncOpenAI\n",
        "\n",
        "client = AsyncOpenAI(\n",
        "    api_key=gemini_api_key,\n",
        "    base_url=\"https://generativelanguage.googleapis.com/v1beta/openai/\"\n",
        ")\n",
        "\n",
        "model = OpenAIChatCompletionsModel(\n",
        "    openai_client = client,\n",
        "    model = \"gemini-2.0-flash\"\n",
        ")\n"
      ],
      "metadata": {
        "id": "ML_2Aj0zG8ta"
      },
      "execution_count": 5,
      "outputs": []
    },
    {
      "cell_type": "code",
      "source": [
        "import asyncio\n",
        "from pydantic import BaseModel, Field\n",
        "from agents import Agent, Runner\n",
        "\n",
        "# ------- Structured Output Model --------\n",
        "class WorkOutPlan(BaseModel):\n",
        "  \"\"\"Workout recommendations with exercises and details.\"\"\"\n",
        "  focus_area : str = Field(description=\"Primary focus of the workout.\")\n",
        "  difficulty : str = Field(description=\"Workout difficulty level. (Easy, Medium, Hard)\")\n",
        "  exercises : list[str] = Field(description=\"List of recommended exercises\")\n",
        "  notes : str = Field(description=\"Additional notes or recommendations\")\n"
      ],
      "metadata": {
        "id": "kR2MdCpPHbrA"
      },
      "execution_count": 10,
      "outputs": []
    },
    {
      "cell_type": "code",
      "source": [
        "# -------- Simple Fitness Agent ---------\n",
        "\n",
        "fitness_agent = Agent(\n",
        "    name = \"Fitness Agent\",\n",
        "    instructions = \"\"\"You are a trained and one of the best in town fitness agent, you need to recommend the client with exercises according to the areas of focus.\n",
        "    When asked about suggestions, you need to:\n",
        "    - Determine their fitness goal (weight loss, muscle gain, endurance)\n",
        "    - Keep in mind if the have any medical condition\n",
        "    - Create an appropriate workout plan.\n",
        "    - Included safety tips and notes.\n",
        "    \"\"\",\n",
        "    model = model,\n",
        "    output_type = WorkOutPlan\n",
        ")"
      ],
      "metadata": {
        "id": "llktN-rQJloL"
      },
      "execution_count": 11,
      "outputs": []
    },
    {
      "cell_type": "code",
      "source": [
        "async def main():\n",
        "  input = \"I want to loose fat around my abdomen, suggest me a diet plan and exercies. I have no medical conditions.\"\n",
        "\n",
        "  print(\"\\n\", \"*\"*50)\n",
        "  print(f\"QUERY:  {input}\")\n",
        "  print(\"=\"*50)\n",
        "\n",
        "  whatever = await Runner.run(fitness_agent, input)\n",
        "  print(\"STRUCTURED RESPONSE\")\n",
        "  print(whatever)\n",
        "  print(whatever.final_output)\n",
        "  print(whatever.final_output.dict)\n",
        "  print(whatever.final_output.notes)\n",
        "\n",
        "if__name__=\"__main__\"\n",
        "asyncio.run(main())"
      ],
      "metadata": {
        "colab": {
          "base_uri": "https://localhost:8080/"
        },
        "id": "1jLHFI0sKoji",
        "outputId": "53c5d781-f8de-4cd8-ba90-d567bee603a1"
      },
      "execution_count": 17,
      "outputs": [
        {
          "output_type": "stream",
          "name": "stdout",
          "text": [
            "\n",
            " **************************************************\n",
            "QUERY:  I want to loose fat around my abdomen, suggest me a diet plan and exercies. I have no medical conditions.\n",
            "==================================================\n"
          ]
        },
        {
          "output_type": "stream",
          "name": "stderr",
          "text": [
            "WARNING:openai.agents:OPENAI_API_KEY is not set, skipping trace export\n"
          ]
        },
        {
          "output_type": "stream",
          "name": "stdout",
          "text": [
            "STRUCTURED RESPONSE\n",
            "RunResult:\n",
            "- Last agent: Agent(name=\"Fitness Agent\", ...)\n",
            "- Final output (WorkOutPlan):\n",
            "    {\n",
            "      \"focus_area\": \"Abdominal Fat Loss\",\n",
            "      \"difficulty\": \"Medium\",\n",
            "      \"exercises\": [\n",
            "        \"Crunches (3 sets of 15-20 reps)\",\n",
            "        \"Leg Raises (3 sets of 15-20 reps)\",\n",
            "        \"Russian Twists (3 sets of 15-20 reps)\",\n",
            "        \"Plank (3 sets, hold for 30-60 seconds)\",\n",
            "        \"Bicycle Crunches (3 sets of 15-20 reps)\",\n",
            "        \"Cardio: Running (30-45 minutes, 3-4 times per week)\",\n",
            "        \"Cardio: Swimming (30-45 minutes, 3-4 times per week)\",\n",
            "        \"High-Intensity Interval Training (HIIT) (20-30 minutes, 2-3 times per week)\"\n",
            "      ],\n",
            "      \"notes\": \"Combine these exercises with a balanced diet focused on whole foods, lean proteins, healthy fats, and complex carbohydrates. Drink plenty of water and aim for a calorie deficit to promote fat loss. Consistency is key. Listen to your body and adjust the intensity as needed.\"\n",
            "    }\n",
            "- 1 new item(s)\n",
            "- 1 raw response(s)\n",
            "- 0 input guardrail result(s)\n",
            "- 0 output guardrail result(s)\n",
            "(See `RunResult` for more details)\n",
            "focus_area='Abdominal Fat Loss' difficulty='Medium' exercises=['Crunches (3 sets of 15-20 reps)', 'Leg Raises (3 sets of 15-20 reps)', 'Russian Twists (3 sets of 15-20 reps)', 'Plank (3 sets, hold for 30-60 seconds)', 'Bicycle Crunches (3 sets of 15-20 reps)', 'Cardio: Running (30-45 minutes, 3-4 times per week)', 'Cardio: Swimming (30-45 minutes, 3-4 times per week)', 'High-Intensity Interval Training (HIIT) (20-30 minutes, 2-3 times per week)'] notes='Combine these exercises with a balanced diet focused on whole foods, lean proteins, healthy fats, and complex carbohydrates. Drink plenty of water and aim for a calorie deficit to promote fat loss. Consistency is key. Listen to your body and adjust the intensity as needed.'\n",
            "<bound method BaseModel.dict of WorkOutPlan(focus_area='Abdominal Fat Loss', difficulty='Medium', exercises=['Crunches (3 sets of 15-20 reps)', 'Leg Raises (3 sets of 15-20 reps)', 'Russian Twists (3 sets of 15-20 reps)', 'Plank (3 sets, hold for 30-60 seconds)', 'Bicycle Crunches (3 sets of 15-20 reps)', 'Cardio: Running (30-45 minutes, 3-4 times per week)', 'Cardio: Swimming (30-45 minutes, 3-4 times per week)', 'High-Intensity Interval Training (HIIT) (20-30 minutes, 2-3 times per week)'], notes='Combine these exercises with a balanced diet focused on whole foods, lean proteins, healthy fats, and complex carbohydrates. Drink plenty of water and aim for a calorie deficit to promote fat loss. Consistency is key. Listen to your body and adjust the intensity as needed.')>\n",
            "Combine these exercises with a balanced diet focused on whole foods, lean proteins, healthy fats, and complex carbohydrates. Drink plenty of water and aim for a calorie deficit to promote fat loss. Consistency is key. Listen to your body and adjust the intensity as needed.\n"
          ]
        }
      ]
    },
    {
      "cell_type": "code",
      "source": [],
      "metadata": {
        "id": "tufkrB2iMQi6"
      },
      "execution_count": null,
      "outputs": []
    }
  ]
}