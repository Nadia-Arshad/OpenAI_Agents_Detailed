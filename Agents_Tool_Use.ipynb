{
  "nbformat": 4,
  "nbformat_minor": 0,
  "metadata": {
    "colab": {
      "provenance": []
    },
    "kernelspec": {
      "name": "python3",
      "display_name": "Python 3"
    },
    "language_info": {
      "name": "python"
    }
  },
  "cells": [
    {
      "cell_type": "code",
      "execution_count": 1,
      "metadata": {
        "colab": {
          "base_uri": "https://localhost:8080/"
        },
        "id": "Sl2SETxUPCY5",
        "outputId": "0e3d15da-301b-4c42-dba1-aa4f17f89eb3"
      },
      "outputs": [
        {
          "output_type": "stream",
          "name": "stdout",
          "text": [
            "\u001b[2K     \u001b[90m━━━━━━━━━━━━━━━━━━━━━━━━━━━━━━━━━━━━━━━━\u001b[0m \u001b[32m44.7/44.7 kB\u001b[0m \u001b[31m1.3 MB/s\u001b[0m eta \u001b[36m0:00:00\u001b[0m\n",
            "\u001b[2K   \u001b[90m━━━━━━━━━━━━━━━━━━━━━━━━━━━━━━━━━━━━━━━━\u001b[0m \u001b[32m130.6/130.6 kB\u001b[0m \u001b[31m4.3 MB/s\u001b[0m eta \u001b[36m0:00:00\u001b[0m\n",
            "\u001b[2K   \u001b[90m━━━━━━━━━━━━━━━━━━━━━━━━━━━━━━━━━━━━━━━━\u001b[0m \u001b[32m129.3/129.3 kB\u001b[0m \u001b[31m2.8 MB/s\u001b[0m eta \u001b[36m0:00:00\u001b[0m\n",
            "\u001b[2K   \u001b[90m━━━━━━━━━━━━━━━━━━━━━━━━━━━━━━━━━━━━━━━━\u001b[0m \u001b[32m155.9/155.9 kB\u001b[0m \u001b[31m7.6 MB/s\u001b[0m eta \u001b[36m0:00:00\u001b[0m\n",
            "\u001b[2K   \u001b[90m━━━━━━━━━━━━━━━━━━━━━━━━━━━━━━━━━━━━━━━━\u001b[0m \u001b[32m45.2/45.2 kB\u001b[0m \u001b[31m2.2 MB/s\u001b[0m eta \u001b[36m0:00:00\u001b[0m\n",
            "\u001b[?25h"
          ]
        }
      ],
      "source": [
        "!pip install -Uq openai-agents"
      ]
    },
    {
      "cell_type": "code",
      "source": [
        "import nest_asyncio\n",
        "nest_asyncio.apply()"
      ],
      "metadata": {
        "id": "BkVkpD76PP_H"
      },
      "execution_count": 2,
      "outputs": []
    },
    {
      "cell_type": "code",
      "source": [
        "from google.colab import userdata\n",
        "\n",
        "gemini_api_key = userdata.get(\"GEMINI_API_KEY\")\n",
        "if gemini_api_key:\n",
        "  print(\"Yes\")\n",
        "else:\n",
        "  print(\"No\")"
      ],
      "metadata": {
        "colab": {
          "base_uri": "https://localhost:8080/"
        },
        "id": "hHWqscSEPVKg",
        "outputId": "6dab0250-9199-4c19-e3bc-9931759f7ca0"
      },
      "execution_count": 3,
      "outputs": [
        {
          "output_type": "stream",
          "name": "stdout",
          "text": [
            "Yes\n"
          ]
        }
      ]
    },
    {
      "cell_type": "code",
      "source": [
        "from agents import Agent, Runner, OpenAIChatCompletionsModel\n",
        "from openai import AsyncOpenAI\n",
        "\n",
        "\n",
        "client = AsyncOpenAI(\n",
        "    api_key = gemini_api_key,\n",
        "    base_url = \"https://generativelanguage.googleapis.com/v1beta/openai/\"\n",
        ")\n",
        "\n",
        "model = OpenAIChatCompletionsModel(\n",
        "    openai_client=client,\n",
        "    model = \"gemini-2.0-flash\"\n",
        ")"
      ],
      "metadata": {
        "id": "nilQ4kuoPhGi"
      },
      "execution_count": 4,
      "outputs": []
    },
    {
      "cell_type": "code",
      "source": [
        "from agents import function_tool\n",
        "import json\n",
        "from pydantic import BaseModel, Field\n",
        "import asyncio\n",
        "\n",
        "\n",
        "class WorkoutPlan(BaseModel):\n",
        "    \"\"\"Workout recommendation with exercises and details\"\"\"\n",
        "    focus_area: str = Field(description=\"Primary focus of the workout (e.g., 'upper body', 'cardio')\")\n",
        "    difficulty: str = Field(description=\"Difficulty level (Beginner, Intermediate, Advanced)\")\n",
        "    exercises: list[str] = Field(description=\"List of recommended exercises\")\n",
        "    notes: str = Field(description=\"Additional notes or form tips\")\n",
        "\n",
        "# --- Tools ---\n",
        "@function_tool\n",
        "def get_exercise_info(muscle_group: str) -> str:\n",
        "    \"\"\"Get a list of exercises for a specific muscle group\"\"\"\n",
        "    exercise_data = {\n",
        "        \"chest\": [\n",
        "            \"Push-ups: 3 sets of 10-15 reps\",\n",
        "            \"Bench Press: 3 sets of 8-12 reps\",\n",
        "            \"Chest Flyes: 4 sets of 12-15 reps\",\n",
        "            \"Incline Push-ups: 3 sets of 10-15 reps\"\n",
        "        ],\n",
        "        \"back\": [\n",
        "            \"Pull-ups: 3 sets of 6-10 reps\",\n",
        "            \"Bent-over Rows: 3 sets of 8-12 reps\",\n",
        "            \"Lat Pulldowns: 3 sets of 10-12 reps\",\n",
        "            \"Superman Holds: 3 sets of 30 seconds\"\n",
        "        ],\n",
        "        \"legs\": [\n",
        "            \"Squats: 3 sets of 10-15 reps\",\n",
        "            \"Lunges: 3 sets of 10 per leg\",\n",
        "            \"Calf Raises: 3 sets of 15-20 reps\",\n",
        "            \"Glute Bridges: 3 sets of 15 reps\"\n",
        "        ],\n",
        "        \"arms\": [\n",
        "            \"Bicep Curls: 3 sets of 10-12 reps\",\n",
        "            \"Tricep Dips: 3 sets of 10-15 reps\",\n",
        "            \"Hammer Curls: 3 sets of 10-12 reps\",\n",
        "            \"Overhead Tricep Extensions: 3 sets of 10-12 reps\"\n",
        "        ],\n",
        "        \"core\": [\n",
        "            \"Planks: 3 sets of 30-60 seconds\",\n",
        "            \"Crunches: 3 sets of 15-20 reps\",\n",
        "            \"Russian Twists: 3 sets of 20 total reps\",\n",
        "            \"Mountain Climbers: 3 sets of 20 total reps\"\n",
        "        ]\n",
        "    }\n",
        "\n",
        "    muscle_group = muscle_group.lower()\n",
        "    if muscle_group in exercise_data:\n",
        "        exercises = exercise_data[muscle_group]\n",
        "        return json.dumps({\n",
        "            \"muscle_group\": muscle_group,\n",
        "            \"exercises\": exercises,\n",
        "            \"recommendation\": f\"For {muscle_group} training, complete all exercises with 60-90 seconds rest between sets.\"\n",
        "        })\n",
        "    else:\n",
        "        return f\"Exercise information for {muscle_group} is not available.\"\n",
        "\n",
        "@function_tool\n",
        "def calculate_calories(goal: str, weight_kg: float, height_cm: float, age: int, gender: str) -> str:\n",
        "    \"\"\"Calculate daily calorie needs and macronutrient breakdown based on user stats and goals\"\"\"\n",
        "\n",
        "    # Calculate BMR (Basal Metabolic Rate) using Mifflin-St Jeor Equation\n",
        "    if gender.lower() in ['male', 'm']:\n",
        "        bmr = (10 * weight_kg) + (6.25 * height_cm) - (5 * age) + 5\n",
        "    else:  # female\n",
        "        bmr = (10 * weight_kg) + (6.25 * height_cm) - (5 * age) - 161\n",
        "\n",
        "    # Use a moderate activity level for this example\n",
        "    tdee = bmr * 1.55\n",
        "\n",
        "    # Adjust based on goal\n",
        "    if goal.lower() == \"weight loss\":\n",
        "        calorie_target = tdee - 500  # 500 calorie deficit\n",
        "    elif goal.lower() == \"muscle gain\":\n",
        "        calorie_target = tdee + 300  # 300 calorie surplus\n",
        "    else:  # maintenance\n",
        "        calorie_target = tdee\n",
        "\n",
        "    # Calculate macros (simplified)\n",
        "    if goal.lower() == \"weight loss\":\n",
        "        protein_pct = 0.40  # 40% protein\n",
        "        fat_pct = 0.30      # 30% fat\n",
        "        carb_pct = 0.30     # 30% carbs\n",
        "    elif goal.lower() == \"muscle gain\":\n",
        "        protein_pct = 0.30  # 30% protein\n",
        "        fat_pct = 0.25      # 25% fat\n",
        "        carb_pct = 0.45     # 45% carbs\n",
        "    else:  # maintenance or general fitness\n",
        "        protein_pct = 0.30  # 30% protein\n",
        "        fat_pct = 0.30      # 30% fat\n",
        "        carb_pct = 0.40     # 40% carbs\n",
        "\n",
        "    # Convert percentages to grams\n",
        "    protein_calories = calorie_target * protein_pct\n",
        "    fat_calories = calorie_target * fat_pct\n",
        "    carb_calories = calorie_target * carb_pct\n",
        "\n",
        "    # Protein and carbs have 4 calories per gram, fat has 9 calories per gram\n",
        "    protein_grams = round(protein_calories / 4)\n",
        "    fat_grams = round(fat_calories / 9)\n",
        "    carb_grams = round(carb_calories / 4)\n",
        "\n",
        "    result = {\n",
        "        \"goal\": goal,\n",
        "        \"daily_calories\": round(calorie_target),\n",
        "        \"macros\": {\n",
        "            \"protein\": protein_grams,\n",
        "            \"fat\": fat_grams,\n",
        "            \"carbs\": carb_grams\n",
        "        }\n",
        "    }\n",
        "\n",
        "    return json.dumps(result)\n",
        "\n",
        "# --- Fitness Agent with Tools ---\n",
        "fitness_agent = Agent(\n",
        "    name=\"Fitness Coach with Tools\",\n",
        "    instructions=\"\"\"\n",
        "    You are a fitness coach who creates workout plans and provides nutrition advice.\n",
        "\n",
        "    Use the get_exercise_info tool to find exercises for specific muscle groups.\n",
        "    Use the calculate_calories tool to provide nutrition guidance.\n",
        "\n",
        "    When a user asks for workout recommendations:\n",
        "    1. Determine their fitness goal\n",
        "    2. Use the get_exercise_info tool to find appropriate exercises\n",
        "    3. Create a workout plan that matches their goals\n",
        "\n",
        "    When a user asks for nutrition advice:\n",
        "    1. Ask for their stats if not provided (weight, height, age, gender)\n",
        "    2. Use the calculate_calories tool to determine their needs\n",
        "    3. Provide practical nutrition guidance based on the calculations\n",
        "\n",
        "    Your responses should be practical, safe, and tailored to the user's needs.\n",
        "    \"\"\",\n",
        "    model=model,\n",
        "    tools=[get_exercise_info, calculate_calories],\n",
        "    output_type=WorkoutPlan\n",
        ")\n",
        "\n",
        "async def main():\n",
        "    # Example queries\n",
        "    queries = [\n",
        "        \"What are some good chest exercises I can do at home?\",\n",
        "        \"I'm 30 years old, male, 175cm tall, and weigh 80kg. How many calories should I eat to lose weight?\"\n",
        "    ]\n",
        "\n",
        "    for query in queries:\n",
        "        print(\"\\n\" + \"#\"*50)\n",
        "        print(f\"QUERY: {query}\")\n",
        "        print(\"=\"*50)\n",
        "\n",
        "        result = await Runner.run(fitness_agent, query)\n",
        "        print(\"\\nRESPONSE:\")\n",
        "        print(result.final_output)\n",
        "\n",
        "if __name__ == \"__main__\":\n",
        "    asyncio.run(main())\n"
      ],
      "metadata": {
        "colab": {
          "base_uri": "https://localhost:8080/"
        },
        "id": "Nj_Vrk-hP-1k",
        "outputId": "080f36b2-258a-4f75-9299-42b9c2f7ef1d"
      },
      "execution_count": 7,
      "outputs": [
        {
          "output_type": "stream",
          "name": "stdout",
          "text": [
            "\n",
            "##################################################\n",
            "QUERY: What are some good chest exercises I can do at home?\n",
            "==================================================\n",
            "\n",
            "RESPONSE:\n",
            "focus_area='Chest' difficulty='Beginner' exercises=['Push-ups', 'Incline Push-ups', 'Knee Push-ups', 'Dumbbell Flyes'] notes='Remember to keep your core engaged and maintain a straight line from head to heels during push-ups. For dumbbell flyes, use a light weight and focus on controlled movements.'\n",
            "\n",
            "##################################################\n",
            "QUERY: I'm 30 years old, male, 175cm tall, and weigh 80kg. How many calories should I eat to lose weight?\n",
            "==================================================\n",
            "\n",
            "RESPONSE:\n",
            "focus_area='full body' difficulty='beginner' exercises=['squats', 'push-ups', 'plank'] notes='Maintain good form and listen to your body. Consult a healthcare professional before starting any new exercise program.'\n"
          ]
        }
      ]
    },
    {
      "cell_type": "code",
      "source": [],
      "metadata": {
        "id": "WkgkUwhGRkEL"
      },
      "execution_count": null,
      "outputs": []
    }
  ]
}